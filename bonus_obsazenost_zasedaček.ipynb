{
 "cells": [
  {
   "cell_type": "markdown",
   "metadata": {},
   "source": [
    "\n",
    "# Obsazenost zasedaček\n",
    "\n",
    "#### Naše společnost má aktuálně kanceláře se 4 zasedačkami: Forman, Vlasy, Goya a Amadeus. Aktuálně plánuje stěhování do nových prostor a řeší, kolik zasedacích místností by tam mělo být. Proto chce spočítat, jak moc jsou v současnosti zasedačky využívané.\n",
    "\n",
    "#### Níže máš přehled naplánovaných meetingů v jednotlivých zasedačkách během jednoho vybraného dopoledne. Každý meeting trvá právě jednu hodinu, začíná v celou hodinu (např. v 8:00). Tvým úkolem je spočítat pro každou hodinu vypsat počet volných zasedaček."
   ]
  },
  {
   "cell_type": "code",
   "execution_count": 2,
   "metadata": {},
   "outputs": [],
   "source": [
    "meetingy = [\n",
    "    [\"8:00-8:59\", \"Forman\", \"Pravidelný meeting managementu\"],\n",
    "    [\"8:00-8:59\", \"Vlasy\", \"Plánování vánočního večírku\"],\n",
    "    [\"9:00-9:59\", \"Forman\", \"Setkání se zákazníkem - Macromo\"],\n",
    "    [\"9:00-9:59\", \"Amadeus\", \"Pohovor - paní Řeháková\"],\n",
    "    [\"9:00-9:59\", \"Goya\", \"Příprava marketingové kampaně\"],\n",
    "    [\"9:00-9:59\", \"Vlasy\", \"Plán cash-flow\"],\n",
    "    [\"10:00-10:59\", \"Forman\", \"Pohovor - paní Hrachovcová\"],\n",
    "    [\"10:00-10:59\", \"Goya\", \"Setkání se zákazníkem - Livesport\"],\n",
    "    [\"11:00-11:59\", \"Amadeus\", \"Stěhování - plánování prohlídek\"],\n",
    "    [\"11:00-11:59\", \"Forman\", \"Scrum - Python tým\"],\n",
    "    [\"11:00-11:59\", \"Goya\", \"Pohovor - paní Halasová\"],\n",
    "]"
   ]
  },
  {
   "cell_type": "code",
   "execution_count": 27,
   "metadata": {},
   "outputs": [
    {
     "name": "stdout",
     "output_type": "stream",
     "text": [
      "Counter({'9:00-9:59': 4, '11:00-11:59': 3, '8:00-8:59': 2, '10:00-10:59': 2})\n"
     ]
    }
   ],
   "source": [
    "from collections import Counter\n",
    "\n",
    "list = [item[0] for item in meetingy]\n",
    "print(Counter(list))\n"
   ]
  },
  {
   "cell_type": "code",
   "execution_count": null,
   "metadata": {},
   "outputs": [],
   "source": []
  }
 ],
 "metadata": {
  "kernelspec": {
   "display_name": "Python 3",
   "language": "python",
   "name": "python3"
  },
  "language_info": {
   "codemirror_mode": {
    "name": "ipython",
    "version": 3
   },
   "file_extension": ".py",
   "mimetype": "text/x-python",
   "name": "python",
   "nbconvert_exporter": "python",
   "pygments_lexer": "ipython3",
   "version": "3.11.3"
  }
 },
 "nbformat": 4,
 "nbformat_minor": 2
}
